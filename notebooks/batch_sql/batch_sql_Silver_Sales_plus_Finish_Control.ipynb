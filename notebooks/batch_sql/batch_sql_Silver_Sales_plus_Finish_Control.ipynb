{
 "cells": [
  {
   "cell_type": "markdown",
   "metadata": {
    "application/vnd.databricks.v1+cell": {
     "cellMetadata": {
      "byteLimit": 2048000,
      "rowLimit": 10000
     },
     "inputWidgets": {},
     "nuid": "5f0d44ee-7cff-44d1-be0a-81a362064426",
     "showTitle": false,
     "tableResultSettingsMap": {},
     "title": ""
    }
   },
   "source": [
    "# Batch SQL Silver Sales\n",
    "\n",
    "filter(**Bronze_table**) + **Quarentine_table** => **TEMP_Silver**\n",
    "\n",
    "**TEMP_Silver** => **Silver_table** OR **Quarentine_table**\n"
   ]
  },
  {
   "cell_type": "code",
   "execution_count": 0,
   "metadata": {
    "application/vnd.databricks.v1+cell": {
     "cellMetadata": {
      "byteLimit": 2048000,
      "rowLimit": 10000
     },
     "inputWidgets": {},
     "nuid": "3d971e0b-0ef8-463a-aec3-61c74cf91d47",
     "showTitle": false,
     "tableResultSettingsMap": {},
     "title": ""
    }
   },
   "outputs": [],
   "source": [
    "USE IDENTIFIER(:catalog ||'.'|| :schema)"
   ]
  },
  {
   "cell_type": "markdown",
   "metadata": {
    "application/vnd.databricks.v1+cell": {
     "cellMetadata": {
      "byteLimit": 2048000,
      "rowLimit": 10000
     },
     "inputWidgets": {},
     "nuid": "4270e665-268c-4fa3-9ce7-dff66f9170df",
     "showTitle": false,
     "tableResultSettingsMap": {},
     "title": ""
    }
   },
   "source": [
    "## Sales\n"
   ]
  },
  {
   "cell_type": "code",
   "execution_count": 0,
   "metadata": {
    "application/vnd.databricks.v1+cell": {
     "cellMetadata": {
      "byteLimit": 2048000,
      "rowLimit": 10000
     },
     "inputWidgets": {},
     "nuid": "cc25e184-c441-444e-a648-4bfaf45a69ef",
     "showTitle": false,
     "tableResultSettingsMap": {},
     "title": ""
    }
   },
   "outputs": [
    {
     "output_type": "display_data",
     "data": {
      "text/html": [
       "<style scoped>\n",
       "  .table-result-container {\n",
       "    max-height: 300px;\n",
       "    overflow: auto;\n",
       "  }\n",
       "  table, th, td {\n",
       "    border: 1px solid black;\n",
       "    border-collapse: collapse;\n",
       "  }\n",
       "  th, td {\n",
       "    padding: 5px;\n",
       "  }\n",
       "  th {\n",
       "    text-align: left;\n",
       "  }\n",
       "</style><div class='table-result-container'><table class='table-result'><thead style='background-color: white'><tr><th>num_affected_rows</th><th>num_updated_rows</th><th>num_deleted_rows</th><th>num_inserted_rows</th></tr></thead><tbody><tr><td>9</td><td>0</td><td>0</td><td>9</td></tr></tbody></table></div>"
      ]
     },
     "metadata": {
      "application/vnd.databricks.v1+output": {
       "addedWidgets": {},
       "aggData": [],
       "aggError": "",
       "aggOverflow": false,
       "aggSchema": [],
       "aggSeriesLimitReached": false,
       "aggType": "",
       "arguments": {},
       "columnCustomDisplayInfos": {},
       "data": [
        [
         9,
         0,
         0,
         9
        ]
       ],
       "datasetInfos": [
        {
         "name": "_sqldf",
         "schema": {
          "fields": [
           {
            "metadata": {},
            "name": "num_affected_rows",
            "nullable": true,
            "type": "long"
           },
           {
            "metadata": {},
            "name": "num_updated_rows",
            "nullable": true,
            "type": "long"
           },
           {
            "metadata": {},
            "name": "num_deleted_rows",
            "nullable": true,
            "type": "long"
           },
           {
            "metadata": {},
            "name": "num_inserted_rows",
            "nullable": true,
            "type": "long"
           }
          ],
          "type": "struct"
         },
         "tableIdentifier": null,
         "typeStr": "pyspark.sql.connect.dataframe.DataFrame"
        }
       ],
       "dbfsResultPath": null,
       "isJsonSchema": true,
       "metadata": {
        "createTempViewForImplicitDf": true,
        "dataframeName": "_sqldf",
        "executionCount": 3
       },
       "overflow": false,
       "plotOptions": {
        "customPlotOptions": {},
        "displayType": "table",
        "pivotAggregation": null,
        "pivotColumns": null,
        "xColumns": null,
        "yColumns": null
       },
       "removedWidgets": [],
       "schema": [
        {
         "metadata": "{}",
         "name": "num_affected_rows",
         "type": "\"long\""
        },
        {
         "metadata": "{}",
         "name": "num_updated_rows",
         "type": "\"long\""
        },
        {
         "metadata": "{}",
         "name": "num_deleted_rows",
         "type": "\"long\""
        },
        {
         "metadata": "{}",
         "name": "num_inserted_rows",
         "type": "\"long\""
        }
       ],
       "type": "table"
      }
     },
     "output_type": "display_data"
    }
   ],
   "source": [
    "-- Upsert Silver_Sales:\n",
    "MERGE INTO silver_sales AS T\n",
    "USING (\n",
    "  WITH bronze_plus_quarentine AS (\n",
    "    SELECT \n",
    "      Sales_ID,\n",
    "      Customer_ID,\n",
    "      Product_ID,\n",
    "      Revenue,\n",
    "      Units_Sold,\n",
    "      Registration_TimeStamp,\n",
    "      Operation,\n",
    "      Moviment_Date\n",
    "    FROM bronze_sales\n",
    "    -- Filter by day of moviment (moviment_date) :\n",
    "    WHERE Moviment_Date = :moviment_date\n",
    "\n",
    "    UNION ALL\n",
    "    -- Union with sales in quarentine table (wich is expected to be manual updated):\n",
    "    SELECT\n",
    "      Sales_ID,\n",
    "      Customer_ID,\n",
    "      Product_ID,\n",
    "      Revenue,\n",
    "      Units_Sold,\n",
    "      Registration_TimeStamp,\n",
    "      Operation,\n",
    "      Moviment_Date\n",
    "    FROM quarentine_sales\n",
    "  ),\n",
    "\n",
    "  bronze_plus_quarentine_with_rules AS (\n",
    "    SELECT *, row_number() OVER(PARTITION BY Sales_ID, Registration_TimeStamp ORDER BY Moviment_Date ASC) AS rn,\n",
    "\n",
    "            -------------------------- Apply rules: \n",
    "            CASE WHEN Units_Sold > 0\n",
    "                THEN 'valid'\n",
    "                ELSE 'invalid' \n",
    "            END AS status\n",
    "            ---------------------------------------\n",
    "    FROM bronze_plus_quarentine\n",
    "  ) \n",
    "  SELECT \n",
    "    Sales_ID,\n",
    "    Customer_ID,\n",
    "    Product_ID,\n",
    "    Revenue,\n",
    "    Units_Sold,\n",
    "    Registration_TimeStamp,\n",
    "    Operation,\n",
    "    Moviment_Date\n",
    "  FROM bronze_plus_quarentine_with_rules\n",
    "  ------ We just want to keep the valid records to silver table.\n",
    "  WHERE (Status = 'valid' OR Operation = 'DELETE') AND rn = 1\n",
    "  --------------------------------------------------------------------------------------------------------------------------\n",
    ") AS S\n",
    "  ON T.Sales_ID = S.Sales_ID AND T.Registration_TimeStamp = S.Registration_TimeStamp\n",
    "-- INSERT NEW RECORD:\n",
    "WHEN NOT MATCHED THEN INSERT *"
   ]
  },
  {
   "cell_type": "markdown",
   "metadata": {
    "application/vnd.databricks.v1+cell": {
     "cellMetadata": {},
     "inputWidgets": {},
     "nuid": "c4475c60-3da5-4c6f-b6de-936d56a1d140",
     "showTitle": false,
     "tableResultSettingsMap": {},
     "title": ""
    }
   },
   "source": [
    "### Quarentine Sales"
   ]
  },
  {
   "cell_type": "code",
   "execution_count": 0,
   "metadata": {
    "application/vnd.databricks.v1+cell": {
     "cellMetadata": {
      "byteLimit": 2048000,
      "rowLimit": 10000
     },
     "inputWidgets": {},
     "nuid": "fcc4a5e1-3eb1-47dd-8506-a7c0e9c946f0",
     "showTitle": false,
     "tableResultSettingsMap": {},
     "title": ""
    }
   },
   "outputs": [
    {
     "output_type": "display_data",
     "data": {
      "text/html": [
       "<style scoped>\n",
       "  .table-result-container {\n",
       "    max-height: 300px;\n",
       "    overflow: auto;\n",
       "  }\n",
       "  table, th, td {\n",
       "    border: 1px solid black;\n",
       "    border-collapse: collapse;\n",
       "  }\n",
       "  th, td {\n",
       "    padding: 5px;\n",
       "  }\n",
       "  th {\n",
       "    text-align: left;\n",
       "  }\n",
       "</style><div class='table-result-container'><table class='table-result'><thead style='background-color: white'><tr><th>num_affected_rows</th><th>num_updated_rows</th><th>num_deleted_rows</th><th>num_inserted_rows</th></tr></thead><tbody><tr><td>0</td><td>0</td><td>0</td><td>0</td></tr></tbody></table></div>"
      ]
     },
     "metadata": {
      "application/vnd.databricks.v1+output": {
       "addedWidgets": {},
       "aggData": [],
       "aggError": "",
       "aggOverflow": false,
       "aggSchema": [],
       "aggSeriesLimitReached": false,
       "aggType": "",
       "arguments": {},
       "columnCustomDisplayInfos": {},
       "data": [
        [
         0,
         0,
         0,
         0
        ]
       ],
       "datasetInfos": [
        {
         "name": "_sqldf",
         "schema": {
          "fields": [
           {
            "metadata": {},
            "name": "num_affected_rows",
            "nullable": true,
            "type": "long"
           },
           {
            "metadata": {},
            "name": "num_updated_rows",
            "nullable": true,
            "type": "long"
           },
           {
            "metadata": {},
            "name": "num_deleted_rows",
            "nullable": true,
            "type": "long"
           },
           {
            "metadata": {},
            "name": "num_inserted_rows",
            "nullable": true,
            "type": "long"
           }
          ],
          "type": "struct"
         },
         "tableIdentifier": null,
         "typeStr": "pyspark.sql.connect.dataframe.DataFrame"
        }
       ],
       "dbfsResultPath": null,
       "isJsonSchema": true,
       "metadata": {
        "createTempViewForImplicitDf": true,
        "dataframeName": "_sqldf",
        "executionCount": 6
       },
       "overflow": false,
       "plotOptions": {
        "customPlotOptions": {},
        "displayType": "table",
        "pivotAggregation": null,
        "pivotColumns": null,
        "xColumns": null,
        "yColumns": null
       },
       "removedWidgets": [],
       "schema": [
        {
         "metadata": "{}",
         "name": "num_affected_rows",
         "type": "\"long\""
        },
        {
         "metadata": "{}",
         "name": "num_updated_rows",
         "type": "\"long\""
        },
        {
         "metadata": "{}",
         "name": "num_deleted_rows",
         "type": "\"long\""
        },
        {
         "metadata": "{}",
         "name": "num_inserted_rows",
         "type": "\"long\""
        }
       ],
       "type": "table"
      }
     },
     "output_type": "display_data"
    }
   ],
   "source": [
    "MERGE INTO quarentine_sales AS T\n",
    "USING (\n",
    "  WITH bronze_plus_quarentine AS (\n",
    "    SELECT\n",
    "      Sales_ID,\n",
    "      Customer_ID,\n",
    "      Product_ID,\n",
    "      Revenue,\n",
    "      Units_Sold,\n",
    "      Registration_TimeStamp,\n",
    "      Operation,\n",
    "      Moviment_Date,\n",
    "      Source_File\n",
    "    FROM bronze_sales\n",
    "    -- Filter by day of moviment (moviment_date) and not Sales -2 (artificial Sales genareted to deal with empty file, meaning: no change in operational database for that day of moviment):\n",
    "    WHERE Moviment_Date = :moviment_date AND Sales_ID <> -2 AND Operation <> 'DELETE'\n",
    "\n",
    "    UNION ALL\n",
    "    -- Union with sales in quarentine table (wich is expected to be manual updated):\n",
    "    SELECT\n",
    "      Sales_ID,\n",
    "      Customer_ID,\n",
    "      Product_ID,\n",
    "      Revenue,\n",
    "      Units_Sold,\n",
    "      Registration_TimeStamp,\n",
    "      Operation,\n",
    "      Moviment_Date,\n",
    "      Source_File\n",
    "    FROM quarentine_sales\n",
    "  ),\n",
    "\n",
    "  bronze_plus_quarentine_with_rules AS (\n",
    "    SELECT *,\n",
    "\n",
    "            -------------------------- Apply rules: \n",
    "            CASE WHEN Units_Sold > 0\n",
    "                THEN 'valid'\n",
    "                ELSE 'invalid' \n",
    "            END AS status\n",
    "            ---------------------------------------\n",
    "    FROM bronze_plus_quarentine\n",
    "  ) \n",
    "  SELECT *\n",
    "  FROM bronze_plus_quarentine_with_rules\n",
    "  ------ We just want to keep the invalid records to quarentine table.\n",
    "  WHERE Status = 'invalid' \n",
    "  --------------------------------------------------------------------------------------------------------------------------\n",
    ") AS S\n",
    "  ON T.Sales_ID = S.Sales_ID AND T.Registration_TimeStamp = S.Registration_TimeStamp \n",
    "-- UPDATE TO LAST VALID RECORD:\n",
    "WHEN MATCHED THEN UPDATE SET *\n",
    "-- INSERT NEW RECORD:\n",
    "WHEN NOT MATCHED THEN INSERT *\n",
    "-- Deleted retified registers:\n",
    "WHEN NOT MATCHED BY SOURCE THEN DELETE"
   ]
  },
  {
   "cell_type": "code",
   "execution_count": 0,
   "metadata": {
    "application/vnd.databricks.v1+cell": {
     "cellMetadata": {},
     "inputWidgets": {},
     "nuid": "4dbc4bca-569d-444a-af7e-0eef553bdee9",
     "showTitle": false,
     "tableResultSettingsMap": {},
     "title": ""
    }
   },
   "outputs": [],
   "source": [
    "UPDATE IDENTIFIER(:catalog ||'.control.control_tables_moviments')\n",
    "SET MOVIMENT_DATE = :moviment_date\n",
    "WHERE Project_Name = :project \n",
    "  AND Table_name = 'silver_sales'"
   ]
  }
 ],
 "metadata": {
  "application/vnd.databricks.v1+notebook": {
   "computePreferences": null,
   "dashboards": [],
   "environmentMetadata": {
    "base_environment": "",
    "environment_version": "2"
   },
   "inputWidgetPreferences": null,
   "language": "sql",
   "notebookMetadata": {
    "pythonIndentUnit": 4
   },
   "notebookName": "batch_sql_Silver_Sales_plus_Finish_Control",
   "widgets": {
    "catalog": {
     "currentValue": "dev",
     "nuid": "45a3f008-5087-4c2c-a509-a6ae655818d3",
     "typedWidgetInfo": {
      "autoCreated": true,
      "defaultValue": "",
      "label": null,
      "name": "catalog",
      "options": {
       "widgetDisplayType": "Text",
       "validationRegex": null
      },
      "parameterDataType": "String"
     },
     "widgetInfo": {
      "widgetType": "text",
      "defaultValue": "",
      "label": null,
      "name": "catalog",
      "options": {
       "widgetType": "text",
       "autoCreated": true,
       "validationRegex": null
      }
     }
    },
    "moviment_date": {
     "currentValue": "2025-01-01",
     "nuid": "82ea8a8d-5f8d-4807-81f9-498d2f021151",
     "typedWidgetInfo": {
      "autoCreated": false,
      "defaultValue": "",
      "label": null,
      "name": "moviment_date",
      "options": {
       "widgetDisplayType": "Text",
       "validationRegex": null
      },
      "parameterDataType": "String"
     },
     "widgetInfo": {
      "widgetType": "text",
      "defaultValue": "",
      "label": null,
      "name": "moviment_date",
      "options": {
       "widgetType": "text",
       "autoCreated": null,
       "validationRegex": null
      }
     }
    },
    "schema": {
     "currentValue": "retail_batch_sql",
     "nuid": "c49b4f33-3a83-42d8-9c28-9a3883bc233e",
     "typedWidgetInfo": {
      "autoCreated": true,
      "defaultValue": "",
      "label": null,
      "name": "schema",
      "options": {
       "widgetDisplayType": "Text",
       "validationRegex": null
      },
      "parameterDataType": "String"
     },
     "widgetInfo": {
      "widgetType": "text",
      "defaultValue": "",
      "label": null,
      "name": "schema",
      "options": {
       "widgetType": "text",
       "autoCreated": true,
       "validationRegex": null
      }
     }
    }
   }
  },
  "language_info": {
   "name": "sql"
  }
 },
 "nbformat": 4,
 "nbformat_minor": 0
}