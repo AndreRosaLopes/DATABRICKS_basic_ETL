{
 "cells": [
  {
   "cell_type": "code",
   "execution_count": 0,
   "metadata": {
    "application/vnd.databricks.v1+cell": {
     "cellMetadata": {
      "byteLimit": 2048000,
      "rowLimit": 10000
     },
     "inputWidgets": {},
     "nuid": "74915685-3245-4e7e-b745-261b4e4bed22",
     "showTitle": false,
     "tableResultSettingsMap": {},
     "title": ""
    }
   },
   "outputs": [],
   "source": [
    "DROP SCHEMA if exists dev.control CASCADE;\n",
    "DROP SCHEMA IF EXISTS dev.retail_batch_sql CASCADE;"
   ]
  },
  {
   "cell_type": "code",
   "execution_count": 0,
   "metadata": {
    "application/vnd.databricks.v1+cell": {
     "cellMetadata": {
      "byteLimit": 2048000,
      "rowLimit": 10000
     },
     "inputWidgets": {},
     "nuid": "5019823d-84dc-41d4-9d72-bed4b6f20ed7",
     "showTitle": false,
     "tableResultSettingsMap": {},
     "title": ""
    }
   },
   "outputs": [],
   "source": [
    "CREATE CATALOG if not exists Dev;\n",
    "CREATE SCHEMA Dev.Control;\n",
    "CREATE SCHEMA Dev.retail_batch_sql;"
   ]
  },
  {
   "cell_type": "markdown",
   "metadata": {
    "application/vnd.databricks.v1+cell": {
     "cellMetadata": {
      "byteLimit": 2048000,
      "rowLimit": 10000
     },
     "inputWidgets": {},
     "nuid": "2973904d-b5c6-420c-a098-4fc925c8b077",
     "showTitle": false,
     "tableResultSettingsMap": {},
     "title": ""
    }
   },
   "source": [
    "### Controls"
   ]
  },
  {
   "cell_type": "code",
   "execution_count": 0,
   "metadata": {
    "application/vnd.databricks.v1+cell": {
     "cellMetadata": {
      "byteLimit": 2048000,
      "rowLimit": 10000
     },
     "inputWidgets": {},
     "nuid": "9cfd4e61-a858-4c8e-ac65-b22f076b015a",
     "showTitle": false,
     "tableResultSettingsMap": {},
     "title": ""
    }
   },
   "outputs": [],
   "source": [
    "CREATE OR REPLACE TABLE Dev.Control.Control_Tables_Moviments (\n",
    "  Project_Name string,\n",
    "  Table_name string,\n",
    "  Moviment_Date date,\n",
    "  Last_Moviment_to_Run date,\n",
    "  Offset_Days string,\n",
    "  Running_Status string,\n",
    "  StartDate timestamp,\n",
    "  EndDate timestamp,\n",
    "  Last_Execution_Duration float,\n",
    "  Avarage_Time_Over_20_times float\n",
    ") USING DELTA;\n",
    "\n",
    "CREATE OR REPLACE TABLE Dev.Control.DEPENDENCIES (\n",
    "  Table_name string,\n",
    "  Dependens_on string) USING DELTA;\n",
    "\n",
    "CREATE OR REPLACE VIEW dev.control.View_Dependencies_Dates AS\n",
    "  SELECT\n",
    "    A.Project_Name,\n",
    "    A.Table_name,\n",
    "    A.Moviment_Date,\n",
    "    date_sub(current_date(), A.Offset_Days) AS Expected_Moviment_Date,\n",
    "    c.project_name as Project_Name_of_Dependent_Table,\n",
    "    b.Dependens_on,\n",
    "    c.Moviment_Date as Moviment_Date_of_Dependent_Table\n",
    "  FROM dev.control.Control_Tables_Moviments A\n",
    "  INNER JOIN dev.control.dependencies B ON A.Table_name = B.Table_name \n",
    "  INNER JOIN dev.control.Control_Tables_Moviments C ON B.Dependens_on = C.Table_name\n",
    ";\n",
    "\n",
    "CREATE OR REPLACE VIEW dev.control.View_Dates AS\n",
    "  SELECT\n",
    "    Project_Name,\n",
    "    Table_name,\n",
    "    Moviment_Date,\n",
    "    min(Moviment_Date_of_Dependent_Table) AS Able_To_Run_Day_of_Movement,\n",
    "    TRANSFORM(\n",
    "      SLICE( SEQUENCE((Moviment_Date), min(Moviment_Date_of_Dependent_Table)), 2, 1000 ),\n",
    "      x -> DATE_FORMAT(x, 'yyyy-MM-dd')\n",
    "    ) \n",
    "    AS List_of_Dates\n",
    "  FROM dev.control.view_dependencies_dates\n",
    "  GROUP BY Project_Name,Table_name, Moviment_Date;\n",
    "\n",
    "\n"
   ]
  },
  {
   "cell_type": "code",
   "execution_count": 0,
   "metadata": {
    "application/vnd.databricks.v1+cell": {
     "cellMetadata": {
      "byteLimit": 2048000,
      "rowLimit": 10000
     },
     "inputWidgets": {},
     "nuid": "356a8cb5-2b8e-436d-94bf-db31765a9737",
     "showTitle": false,
     "tableResultSettingsMap": {},
     "title": ""
    }
   },
   "outputs": [],
   "source": []
  },
  {
   "cell_type": "code",
   "execution_count": 0,
   "metadata": {
    "application/vnd.databricks.v1+cell": {
     "cellMetadata": {
      "byteLimit": 2048000,
      "rowLimit": 10000
     },
     "inputWidgets": {},
     "nuid": "4036fd69-5c38-47d5-ba0b-66ef06618c8b",
     "showTitle": false,
     "tableResultSettingsMap": {},
     "title": ""
    }
   },
   "outputs": [
    {
     "output_type": "display_data",
     "data": {
      "text/html": [
       "<style scoped>\n",
       "  .table-result-container {\n",
       "    max-height: 300px;\n",
       "    overflow: auto;\n",
       "  }\n",
       "  table, th, td {\n",
       "    border: 1px solid black;\n",
       "    border-collapse: collapse;\n",
       "  }\n",
       "  th, td {\n",
       "    padding: 5px;\n",
       "  }\n",
       "  th {\n",
       "    text-align: left;\n",
       "  }\n",
       "</style><div class='table-result-container'><table class='table-result'><thead style='background-color: white'><tr><th>num_affected_rows</th><th>num_inserted_rows</th></tr></thead><tbody><tr><td>9</td><td>9</td></tr></tbody></table></div>"
      ]
     },
     "metadata": {
      "application/vnd.databricks.v1+output": {
       "addedWidgets": {},
       "aggData": [],
       "aggError": "",
       "aggOverflow": false,
       "aggSchema": [],
       "aggSeriesLimitReached": false,
       "aggType": "",
       "arguments": {},
       "columnCustomDisplayInfos": {},
       "data": [
        [
         9,
         9
        ]
       ],
       "datasetInfos": [
        {
         "name": "_sqldf",
         "schema": {
          "fields": [
           {
            "metadata": {},
            "name": "num_affected_rows",
            "nullable": true,
            "type": "long"
           },
           {
            "metadata": {},
            "name": "num_inserted_rows",
            "nullable": true,
            "type": "long"
           }
          ],
          "type": "struct"
         },
         "tableIdentifier": null,
         "typeStr": "pyspark.sql.connect.dataframe.DataFrame"
        }
       ],
       "dbfsResultPath": null,
       "isJsonSchema": true,
       "metadata": {
        "createTempViewForImplicitDf": true,
        "dataframeName": "_sqldf",
        "executionCount": 7
       },
       "overflow": false,
       "plotOptions": {
        "customPlotOptions": {},
        "displayType": "table",
        "pivotAggregation": null,
        "pivotColumns": null,
        "xColumns": null,
        "yColumns": null
       },
       "removedWidgets": [],
       "schema": [
        {
         "metadata": "{}",
         "name": "num_affected_rows",
         "type": "\"long\""
        },
        {
         "metadata": "{}",
         "name": "num_inserted_rows",
         "type": "\"long\""
        }
       ],
       "type": "table"
      }
     },
     "output_type": "display_data"
    }
   ],
   "source": [
    "INSERT INTO dev.control.Control_Tables_Moviments VALUES\n",
    "('Retail', 'bronze_customers', '2024-12-31', '9999-12-31', 1, null, null, null, null, null),\n",
    "('Retail', 'bronze_products', '2024-12-31', '9999-12-31', 1, null, null, null, null, null),\n",
    "('Retail', 'bronze_sales', '2024-12-31', '9999-12-31', 1, null, null, null, null, null),\n",
    "('Retail', 'silver_customers', '2024-12-31', '9999-12-31', 1, null, null, null, null, null),\n",
    "('Retail', 'silver_products', '2024-12-31', '9999-12-31', 1, null, null, null, null, null),\n",
    "('Retail', 'silver_sales', '2024-12-31', '9999-12-31', 1, null, null, null, null, null),\n",
    "('Retail', 'gold_customers', '2024-12-31', '9999-12-31', 1, null, null, null, null, null),\n",
    "('Retail', 'gold_products', '2024-12-31', '9999-12-31', 1, null, null, null, null, null),\n",
    "('Retail', 'gold_sales', '2024-12-31', '9999-12-31', 1, null, null, null, null, null)"
   ]
  },
  {
   "cell_type": "code",
   "execution_count": 0,
   "metadata": {
    "application/vnd.databricks.v1+cell": {
     "cellMetadata": {
      "byteLimit": 2048000,
      "rowLimit": 10000
     },
     "inputWidgets": {},
     "nuid": "33265946-961f-430f-83f9-58bdbfdb0778",
     "showTitle": false,
     "tableResultSettingsMap": {},
     "title": ""
    }
   },
   "outputs": [
    {
     "output_type": "display_data",
     "data": {
      "text/html": [
       "<style scoped>\n",
       "  .table-result-container {\n",
       "    max-height: 300px;\n",
       "    overflow: auto;\n",
       "  }\n",
       "  table, th, td {\n",
       "    border: 1px solid black;\n",
       "    border-collapse: collapse;\n",
       "  }\n",
       "  th, td {\n",
       "    padding: 5px;\n",
       "  }\n",
       "  th {\n",
       "    text-align: left;\n",
       "  }\n",
       "</style><div class='table-result-container'><table class='table-result'><thead style='background-color: white'><tr><th>num_affected_rows</th><th>num_inserted_rows</th></tr></thead><tbody><tr><td>8</td><td>8</td></tr></tbody></table></div>"
      ]
     },
     "metadata": {
      "application/vnd.databricks.v1+output": {
       "addedWidgets": {},
       "aggData": [],
       "aggError": "",
       "aggOverflow": false,
       "aggSchema": [],
       "aggSeriesLimitReached": false,
       "aggType": "",
       "arguments": {},
       "columnCustomDisplayInfos": {},
       "data": [
        [
         8,
         8
        ]
       ],
       "datasetInfos": [
        {
         "name": "_sqldf",
         "schema": {
          "fields": [
           {
            "metadata": {},
            "name": "num_affected_rows",
            "nullable": true,
            "type": "long"
           },
           {
            "metadata": {},
            "name": "num_inserted_rows",
            "nullable": true,
            "type": "long"
           }
          ],
          "type": "struct"
         },
         "tableIdentifier": null,
         "typeStr": "pyspark.sql.connect.dataframe.DataFrame"
        }
       ],
       "dbfsResultPath": null,
       "isJsonSchema": true,
       "metadata": {
        "createTempViewForImplicitDf": true,
        "dataframeName": "_sqldf",
        "executionCount": 8
       },
       "overflow": false,
       "plotOptions": {
        "customPlotOptions": {},
        "displayType": "table",
        "pivotAggregation": null,
        "pivotColumns": null,
        "xColumns": null,
        "yColumns": null
       },
       "removedWidgets": [],
       "schema": [
        {
         "metadata": "{}",
         "name": "num_affected_rows",
         "type": "\"long\""
        },
        {
         "metadata": "{}",
         "name": "num_inserted_rows",
         "type": "\"long\""
        }
       ],
       "type": "table"
      }
     },
     "output_type": "display_data"
    }
   ],
   "source": [
    "INSERT INTO dev.control.DEPENDENCIES VALUES\n",
    "('silver_customers', 'bronze_customers'),\n",
    "('silver_products', 'bronze_products'),\n",
    "('silver_sales', 'bronze_sales'),\n",
    "('gold_customers', 'silver_customers'),\n",
    "('gold_products', 'silver_products'),\n",
    "('gold_sales', 'silver_sales'),\n",
    "('gold_sales', 'gold_customers'),\n",
    "('gold_sales', 'gold_products')\n"
   ]
  },
  {
   "cell_type": "code",
   "execution_count": 0,
   "metadata": {
    "application/vnd.databricks.v1+cell": {
     "cellMetadata": {
      "byteLimit": 2048000,
      "rowLimit": 10000
     },
     "inputWidgets": {},
     "nuid": "c0233ef8-dade-47a9-9523-6d8ff1987cb8",
     "showTitle": false,
     "tableResultSettingsMap": {},
     "title": ""
    }
   },
   "outputs": [],
   "source": [
    "USE Dev.retail_batch_sql"
   ]
  },
  {
   "cell_type": "markdown",
   "metadata": {
    "application/vnd.databricks.v1+cell": {
     "cellMetadata": {
      "byteLimit": 2048000,
      "rowLimit": 10000
     },
     "inputWidgets": {},
     "nuid": "077bad79-a0ba-4c65-ab65-000c8f2ded3e",
     "showTitle": false,
     "tableResultSettingsMap": {},
     "title": ""
    }
   },
   "source": [
    "# Customers"
   ]
  },
  {
   "cell_type": "code",
   "execution_count": 0,
   "metadata": {
    "application/vnd.databricks.v1+cell": {
     "cellMetadata": {
      "byteLimit": 2048000,
      "rowLimit": 10000
     },
     "inputWidgets": {},
     "nuid": "503fb23b-b6fc-4cd8-b42b-b9d87e2e76ac",
     "showTitle": false,
     "tableResultSettingsMap": {},
     "title": ""
    }
   },
   "outputs": [],
   "source": [
    "CREATE OR REPLACE TABLE Bronze_Customers (\n",
    "  Customer_ID bigint,\n",
    "  Social_Number string,\n",
    "  Name string,\n",
    "  email string, \n",
    "  Address string, \n",
    "  ------------------------------- Operational fields:\n",
    "  Registration_TimeStamp timestamp,\n",
    "  Operation string,\n",
    "  ------------------------------- DW fields:\n",
    "  Moviment_Date date,\n",
    "  Source_File string\n",
    ") USING DELTA;\n",
    "\n",
    "CREATE OR REPLACE TABLE Silver_Customers (\n",
    "  Customer_ID bigint,\n",
    "  Social_Number string,\n",
    "  Name string,\n",
    "  email string, \n",
    "  Address string, \n",
    "  ------------------------------- Operational fields:\n",
    "  Registration_TimeStamp timestamp,\n",
    "  Operation string,\n",
    "  ------------------------------- DW fields:\n",
    "  Moviment_Date date\n",
    ") USING DELTA;\n",
    "\n",
    "CREATE OR REPLACE TABLE Quarentine_Customers (\n",
    "  Customer_ID bigint,\n",
    "  Social_Number string,\n",
    "  Name string,\n",
    "  email string, \n",
    "  Address string, \n",
    "  ------------------------------- Operational fields:\n",
    "  Registration_TimeStamp timestamp,\n",
    "  Operation string,\n",
    "  ------------------------------- DW fields:\n",
    "  Moviment_Date date,\n",
    "  Source_File string,\n",
    "  Status string        --> Mark as valid or invalid\n",
    ") USING DELTA;\n",
    "\n",
    "CREATE OR REPLACE TABLE gold_customers (\n",
    "  Customer_SK string,\n",
    "  Customer_ID bigint,\n",
    "  Social_Number string,\n",
    "  Name string,\n",
    "  email string, \n",
    "  Address string, \n",
    "  ------------------------------- Operational fields:\n",
    "  -- Registration_TimeStamp timestamp,\n",
    "  -- Operation string,\n",
    "  ------------------------------- DW fields:\n",
    "  Moviment_Date date,\n",
    "  StartDate timestamp, --> Registration_TimeStamp \n",
    "  EndDate timestamp,\n",
    "  hash string\n",
    ") USING DELTA;"
   ]
  },
  {
   "cell_type": "markdown",
   "metadata": {
    "application/vnd.databricks.v1+cell": {
     "cellMetadata": {
      "byteLimit": 2048000,
      "rowLimit": 10000
     },
     "inputWidgets": {},
     "nuid": "31df68d8-56f7-4418-a9db-55696db58adf",
     "showTitle": false,
     "tableResultSettingsMap": {},
     "title": ""
    }
   },
   "source": [
    "# Product"
   ]
  },
  {
   "cell_type": "code",
   "execution_count": 0,
   "metadata": {
    "application/vnd.databricks.v1+cell": {
     "cellMetadata": {
      "byteLimit": 2048000,
      "rowLimit": 10000
     },
     "inputWidgets": {},
     "nuid": "58988ab5-532b-471a-bdfa-c5b33a5ccead",
     "showTitle": false,
     "tableResultSettingsMap": {},
     "title": ""
    }
   },
   "outputs": [],
   "source": [
    "CREATE OR REPLACE TABLE Bronze_Products (\n",
    "  Product_ID bigint,\n",
    "  SKU string,\n",
    "  Name string,\n",
    "  Unit_Price float, \n",
    "  ------------------------------- Operational fields:\n",
    "  Registration_TimeStamp timestamp,\n",
    "  Operation string,\n",
    "  ------------------------------- DW fields:\n",
    "  Moviment_Date date,\n",
    "  Source_File string\n",
    ") USING DELTA;\n",
    "\n",
    "CREATE OR REPLACE TABLE Silver_Products (\n",
    "  Product_ID bigint,\n",
    "  SKU string,\n",
    "  Name string,\n",
    "  Unit_Price float, \n",
    "  ------------------------------- Operational fields:\n",
    "  Registration_TimeStamp timestamp,\n",
    "  Operation string,\n",
    "  ------------------------------- DW fields:\n",
    "  Moviment_Date date\n",
    ") USING DELTA;\n",
    "\n",
    "CREATE OR REPLACE TABLE Quarentine_Products (\n",
    "  Product_ID bigint,\n",
    "  SKU string,\n",
    "  Name string,\n",
    "  Unit_Price float, \n",
    "  ------------------------------- Operational fields:\n",
    "  Registration_TimeStamp timestamp,\n",
    "  Operation string,\n",
    "  ------------------------------- DW fields:\n",
    "  Moviment_Date date,\n",
    "  Source_File string,\n",
    "  Status string        --> Mark as valid or invalid\n",
    ") USING DELTA;\n",
    "\n",
    "CREATE OR REPLACE TABLE gold_products (\n",
    "  Product_SK string,\n",
    "  Product_ID bigint,\n",
    "  SKU string,\n",
    "  Name string,\n",
    "  Unit_Price float, \n",
    "  ------------------------------- DW fields:\n",
    "  Moviment_Date date,\n",
    "  StartDate timestamp, --> Registration_TimeStamp \n",
    "  EndDate timestamp,\n",
    "  hash string\n",
    ") USING DELTA;"
   ]
  },
  {
   "cell_type": "markdown",
   "metadata": {
    "application/vnd.databricks.v1+cell": {
     "cellMetadata": {
      "byteLimit": 2048000,
      "rowLimit": 10000
     },
     "inputWidgets": {},
     "nuid": "5803118b-e05b-4857-b802-91e1d670176c",
     "showTitle": false,
     "tableResultSettingsMap": {},
     "title": ""
    }
   },
   "source": [
    "### Sales"
   ]
  },
  {
   "cell_type": "code",
   "execution_count": 0,
   "metadata": {
    "application/vnd.databricks.v1+cell": {
     "cellMetadata": {
      "byteLimit": 2048000,
      "rowLimit": 10000
     },
     "inputWidgets": {},
     "nuid": "c0e7be85-dd91-4579-b3b0-f8e5b4413700",
     "showTitle": false,
     "tableResultSettingsMap": {},
     "title": ""
    }
   },
   "outputs": [
    {
     "output_type": "stream",
     "name": "stdout",
     "output_type": "stream",
     "text": [
      "Executing subquery: DROP SCHEMA if exists dev.control CASCADE.\nExecuting subquery: DROP SCHEMA IF EXISTS dev.retail_batch_sql CASCADE.\nExecuting subquery: CREATE CATALOG if not exists Dev.\nExecuting subquery: CREATE SCHEMA Dev.Control.\nExecuting subquery: CREATE SCHEMA Dev.retail_batch_sql.\nExecuting subquery: CREATE OR REPLACE TABLE Dev.Control.Control_Tables_Moviments (\n  Project_Name string,\n  Table_name string,\n  Moviment_Date date,\n  Last_Moviment_to_Run date,\n  Offset_Days string,\n  Running_Status string,\n  StartDate timestamp,\n  EndDate timestamp,\n  Last_Execution_Duration float,\n  Avarage_Time_Over_20_times float\n) USING DELTA.\nExecuting subquery: CREATE OR REPLACE VIEW dev.control.View_Dependencies_Dates AS\n  SELECT\n    A.Project_Name,\n    A.Table_name,\n    A.Moviment_Date,\n    date_sub(current_date(), A.Offset_Days) AS Expected_Moviment_Date,\n    c.project_name as Project_Name_of_Dependent_Table,\n    b.Dependens_on,\n    c.Moviment_Date as Moviment_Date_of_Dependent_Table\n  FROM dev.control.Control_Tables_Moviments A\n  INNER JOIN dev.control.dependencies B ON A.Table_name = B.Table_name \n  INNER JOIN dev.control.Control_Tables_Moviments C ON B.Dependens_on = C.Table_name.\nExecuting subquery: CREATE OR REPLACE TABLE Dev.Control.Control_Tables_Moviments (\n  Project_Name string,\n  Table_name string,\n  Moviment_Date date,\n  Last_Moviment_to_Run date,\n  Offset_Days string,\n  Running_Status string,\n  StartDate timestamp,\n  EndDate timestamp,\n  Last_Execution_Duration float,\n  Avarage_Time_Over_20_times float\n) USING DELTA.\nExecuting subquery: CREATE OR REPLACE TABLE Dev.Control.DEPENDENCIES (\n  Table_name string,\n  Dependens_on string) USING DELTA.\nExecuting subquery: CREATE OR REPLACE VIEW dev.control.View_Dependencies_Dates AS\n  SELECT\n    A.Project_Name,\n    A.Table_name,\n    A.Moviment_Date,\n    date_sub(current_date(), A.Offset_Days) AS Expected_Moviment_Date,\n    c.project_name as Project_Name_of_Dependent_Table,\n    b.Dependens_on,\n    c.Moviment_Date as Moviment_Date_of_Dependent_Table\n  FROM dev.control.Control_Tables_Moviments A\n  INNER JOIN dev.control.dependencies B ON A.Table_name = B.Table_name \n  INNER JOIN dev.control.Control_Tables_Moviments C ON B.Dependens_on = C.Table_name.\nExecuting subquery: CREATE OR REPLACE VIEW dev.control.View_Dates AS\n  SELECT\n    Project_Name,\n    Table_name,\n    Moviment_Date,\n    min(Moviment_Date_of_Dependent_Table) AS Able_To_Run_Day_of_Movement,\n    TRANSFORM(\n      SLICE( SEQUENCE((Moviment_Date), min(Moviment_Date_of_Dependent_Table)), 2, 1000 ),\n      x -> DATE_FORMAT(x, 'yyyy-MM-dd')\n    ) \n    AS List_of_Dates\n  FROM dev.control.view_dependencies_dates\n  GROUP BY Project_Name,Table_name, Moviment_Date.\nExecuting subquery: INSERT INTO dev.control.Control_Tables_Moviments VALUES\n('Retail', 'bronze_customers', '2024-12-31', '9999-12-31', 1, null, null, null, null, null),\n('Retail', 'bronze_products', '2024-12-31', '9999-12-31', 1, null, null, null, null, null),\n('Retail', 'bronze_sales', '2024-12-31', '9999-12-31', 1, null, null, null, null, null),\n('Retail', 'silver_customers', '2024-12-31', '9999-12-31', 1, null, null, null, null, null),\n('Retail', 'silver_products', '2024-12-31', '9999-12-31', 1, null, null, null, null, null),\n('Retail', 'silver_sales', '2024-12-31', '9999-12-31', 1, null, null, null, null, null),\n('Retail', 'gold_customers', '2024-12-31', '9999-12-31', 1, null, null, null, null, null),\n('Retail', 'gold_products', '2024-12-31', '9999-12-31', 1, null, null, null, null, null),\n('Retail', 'gold_sales', '2024-12-31', '9999-12-31', 1, null, null, null, null, null).\nExecuting subquery: INSERT INTO dev.control.DEPENDENCIES VALUES\n('silver_customers', 'bronze_customers'),\n('silver_products', 'bronze_products'),\n('silver_sales', 'bronze_sales'),\n('gold_customers', 'silver_customers'),\n('gold_products', 'silver_products'),\n('gold_sales', 'silver_sales'),\n('gold_sales', 'gold_customers'),\n('gold_sales', 'gold_products').\nExecuting subquery: USE Dev.retail_batch_sql.\nExecuting subquery: CREATE OR REPLACE TABLE Bronze_Customers (\n  Customer_ID bigint,\n  Social_Number string,\n  Name string,\n  email string, \n  Address string, \n  ------------------------------- Operational fields:\n  Registration_TimeStamp timestamp,\n  Operation string,\n  ------------------------------- DW fields:\n  Moviment_Date date,\n  Source_File string\n) USING DELTA.\nExecuting subquery: CREATE OR REPLACE TABLE Silver_Customers (\n  Customer_ID bigint,\n  Social_Number string,\n  Name string,\n  email string, \n  Address string, \n  ------------------------------- Operational fields:\n  Registration_TimeStamp timestamp,\n  Operation string,\n  ------------------------------- DW fields:\n  Moviment_Date date\n) USING DELTA.\nExecuting subquery: CREATE OR REPLACE TABLE Quarentine_Customers (\n  Customer_ID bigint,\n  Social_Number string,\n  Name string,\n  email string, \n  Address string, \n  ------------------------------- Operational fields:\n  Registration_TimeStamp timestamp,\n  Operation string,\n  ------------------------------- DW fields:\n  Moviment_Date date,\n  Source_File string,\n  Status string        --> Mark as valid or invalid\n) USING DELTA.\nExecuting subquery: CREATE OR REPLACE TABLE gold_customers (\n  Customer_SK string,\n  Customer_ID bigint,\n  Social_Number string,\n  Name string,\n  email string, \n  Address string, \n  ------------------------------- Operational fields:\n  -- Registration_TimeStamp timestamp,\n  -- Operation string,\n  ------------------------------- DW fields:\n  Moviment_Date date,\n  StartDate timestamp, --> Registration_TimeStamp \n  EndDate timestamp,\n  hash string\n) USING DELTA.\nExecuting subquery: CREATE OR REPLACE TABLE Bronze_Products (\n  Product_ID bigint,\n  SKU string,\n  Name string,\n  Unit_Price float, \n  ------------------------------- Operational fields:\n  Registration_TimeStamp timestamp,\n  Operation string,\n  ------------------------------- DW fields:\n  Moviment_Date date,\n  Source_File string\n) USING DELTA.\nExecuting subquery: CREATE OR REPLACE TABLE Silver_Products (\n  Product_ID bigint,\n  SKU string,\n  Name string,\n  Unit_Price float, \n  ------------------------------- Operational fields:\n  Registration_TimeStamp timestamp,\n  Operation string,\n  ------------------------------- DW fields:\n  Moviment_Date date\n) USING DELTA.\nExecuting subquery: CREATE OR REPLACE TABLE Quarentine_Products (\n  Product_ID bigint,\n  SKU string,\n  Name string,\n  Unit_Price float, \n  ------------------------------- Operational fields:\n  Registration_TimeStamp timestamp,\n  Operation string,\n  ------------------------------- DW fields:\n  Moviment_Date date,\n  Source_File string,\n  Status string        --> Mark as valid or invalid\n) USING DELTA.\nExecuting subquery: CREATE OR REPLACE TABLE gold_products (\n  Product_SK string,\n  Product_ID bigint,\n  SKU string,\n  Name string,\n  Unit_Price float, \n  ------------------------------- DW fields:\n  Moviment_Date date,\n  StartDate timestamp, --> Registration_TimeStamp \n  EndDate timestamp,\n  hash string\n) USING DELTA.\nExecuting subquery: CREATE OR REPLACE TABLE Bronze_Sales (\n  Sales_ID bigint,\n  Customer_ID bigint,\n  Product_ID bigint,\n  Revenue float,\n  Units_Sold int,\n  ------------------------------- Operational fields:\n  Registration_TimeStamp timestamp,\n  Operation string,\n  ------------------------------- DW fields:\n  Moviment_Date date,\n  Source_File string\n) USING DELTA.\nExecuting subquery: CREATE OR REPLACE TABLE Silver_Sales (\n  Sales_ID bigint,\n  Customer_ID bigint,\n  Product_ID bigint,\n  Revenue float,\n  Units_Sold int,\n  ------------------------------- Operational fields:\n  Registration_TimeStamp timestamp,\n  Operation string,\n  ------------------------------- DW fields:\n  Moviment_Date date\n) USING DELTA.\nExecuting subquery: CREATE OR REPLACE TABLE Quarentine_Sales (\n  Sales_ID bigint,\n  Customer_ID bigint,\n  Product_ID bigint,\n  Revenue float,\n  Units_Sold int,\n  ------------------------------- Operational fields:\n  Registration_TimeStamp timestamp,\n  Operation string,\n  ------------------------------- DW fields:\n  Moviment_Date date,\n  Source_File string,\n  Status string        --> Mark as valid or invalid\n) USING DELTA.\nExecuting subquery: CREATE OR REPLACE TABLE gold_sales (\n  Sales_SK string,\n  Sales_ID bigint,\n  Customer_SK string,\n  Product_SK string,\n  Revenue float,\n  Units_Sold int,\n  ------------------------------- Operational fields:\n  Sales_Timestamp timestamp,\n  ------------------------------- DW fields:\n  Moviment_Date date\n) USING DELTA."
     ]
    }
   ],
   "source": [
    "CREATE OR REPLACE TABLE Bronze_Sales (\n",
    "  Sales_ID bigint,\n",
    "  Customer_ID bigint,\n",
    "  Product_ID bigint,\n",
    "  Revenue float,\n",
    "  Units_Sold int,\n",
    "  ------------------------------- Operational fields:\n",
    "  Registration_TimeStamp timestamp,\n",
    "  Operation string,\n",
    "  ------------------------------- DW fields:\n",
    "  Moviment_Date date,\n",
    "  Source_File string\n",
    ") USING DELTA;\n",
    "\n",
    "CREATE OR REPLACE TABLE Silver_Sales (\n",
    "  Sales_ID bigint,\n",
    "  Customer_ID bigint,\n",
    "  Product_ID bigint,\n",
    "  Revenue float,\n",
    "  Units_Sold int,\n",
    "  ------------------------------- Operational fields:\n",
    "  Registration_TimeStamp timestamp,\n",
    "  Operation string,\n",
    "  ------------------------------- DW fields:\n",
    "  Moviment_Date date\n",
    ") USING DELTA;\n",
    "\n",
    "CREATE OR REPLACE TABLE Quarentine_Sales (\n",
    "  Sales_ID bigint,\n",
    "  Customer_ID bigint,\n",
    "  Product_ID bigint,\n",
    "  Revenue float,\n",
    "  Units_Sold int,\n",
    "  ------------------------------- Operational fields:\n",
    "  Registration_TimeStamp timestamp,\n",
    "  Operation string,\n",
    "  ------------------------------- DW fields:\n",
    "  Moviment_Date date,\n",
    "  Source_File string,\n",
    "  Status string        --> Mark as valid or invalid\n",
    ") USING DELTA;\n",
    "\n",
    "CREATE OR REPLACE TABLE gold_sales (\n",
    "  Sales_SK string,\n",
    "  Sales_ID bigint,\n",
    "  Customer_SK string,\n",
    "  Product_SK string,\n",
    "  Revenue float,\n",
    "  Units_Sold int,\n",
    "  ------------------------------- Operational fields:\n",
    "  Sales_Timestamp timestamp,\n",
    "  ------------------------------- DW fields:\n",
    "  Moviment_Date date\n",
    ") USING DELTA;"
   ]
  }
 ],
 "metadata": {
  "application/vnd.databricks.v1+notebook": {
   "computePreferences": null,
   "dashboards": [],
   "environmentMetadata": {
    "base_environment": "",
    "environment_version": "2"
   },
   "inputWidgetPreferences": null,
   "language": "sql",
   "notebookMetadata": {
    "pythonIndentUnit": 4
   },
   "notebookName": "DLL_NOTEBOOK",
   "widgets": {}
  },
  "language_info": {
   "name": "sql"
  }
 },
 "nbformat": 4,
 "nbformat_minor": 0
}