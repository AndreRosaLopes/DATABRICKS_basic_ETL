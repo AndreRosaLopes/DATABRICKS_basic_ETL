{
 "cells": [
  {
   "cell_type": "markdown",
   "metadata": {
    "application/vnd.databricks.v1+cell": {
     "cellMetadata": {
      "byteLimit": 2048000,
      "rowLimit": 10000
     },
     "inputWidgets": {},
     "nuid": "5f0d44ee-7cff-44d1-be0a-81a362064426",
     "showTitle": false,
     "tableResultSettingsMap": {},
     "title": ""
    },
    "jupyter": {
     "outputs_hidden": true
    }
   },
   "source": [
    "# Batch SQL Gold\n"
   ]
  },
  {
   "cell_type": "code",
   "execution_count": 0,
   "metadata": {
    "application/vnd.databricks.v1+cell": {
     "cellMetadata": {
      "byteLimit": 2048000,
      "rowLimit": 10000
     },
     "inputWidgets": {},
     "nuid": "4270e665-268c-4fa3-9ce7-dff66f9170df",
     "showTitle": false,
     "tableResultSettingsMap": {},
     "title": ""
    }
   },
   "outputs": [],
   "source": [
    "\n",
    "USE IDENTIFIER(:catalog ||'.'|| :schema)\n"
   ]
  },
  {
   "cell_type": "markdown",
   "metadata": {
    "application/vnd.databricks.v1+cell": {
     "cellMetadata": {},
     "inputWidgets": {},
     "nuid": "1d7393f8-a694-4e24-9d8d-e67d3eb57a8c",
     "showTitle": false,
     "tableResultSettingsMap": {},
     "title": ""
    }
   },
   "source": [
    "# Customers"
   ]
  },
  {
   "cell_type": "code",
   "execution_count": 0,
   "metadata": {
    "application/vnd.databricks.v1+cell": {
     "cellMetadata": {
      "byteLimit": 2048000,
      "rowLimit": 10000
     },
     "inputWidgets": {},
     "nuid": "d4e560db-81f3-4730-a880-b7423f74ae36",
     "showTitle": false,
     "tableResultSettingsMap": {},
     "title": ""
    }
   },
   "outputs": [],
   "source": [
    "MERGE INTO gold_customers AS T\n",
    "USING (\n",
    "  WITH changed_register_for_merge AS (\n",
    "    SELECT \n",
    "      sha2(concat_ws('|',Customer_ID,Registration_TimeStamp),256) as Customer_SK,\n",
    "      Customer_ID,\n",
    "      Social_Number,\n",
    "      Name,\n",
    "      email,\n",
    "      Address,\n",
    "      Moviment_Date,\n",
    "      Registration_TimeStamp AS StartDate,\n",
    "      Null AS EndDate,\n",
    "      sha2(concat_ws('|',*),256) as hash,  --> HASH HERE DEPENDS ONLY ON THE COLUMNS OF SILVER TABLE\n",
    "      Operation\n",
    "    FROM silver_customers\n",
    "    WHERE Moviment_Date = :moviment_date\n",
    "\n",
    "    UNION ALL\n",
    "\n",
    "    SELECT DISTINCT T.*, Null AS Operation\n",
    "    FROM ( SELECT Customer_ID, Registration_TimeStamp FROM silver_customers WHERE Moviment_Date = :moviment_date ) S\n",
    "    LEFT JOIN gold_customers T \n",
    "      ON S.Customer_ID = T.Customer_ID\n",
    "    WHERE S.Registration_TimeStamp > T.StartDate AND S.Registration_TimeStamp < T.EndDate\n",
    "  ),\n",
    "  lead_lag_table AS (\n",
    "  SELECT *,\n",
    "    LEAD(StartDate) OVER (PARTITION BY Customer_ID ORDER BY StartDate) AS EndDate1,\n",
    "    LAG(EndDate) OVER (PARTITION BY Customer_ID ORDER BY StartDate) AS EndDate2\n",
    "  FROM changed_register_for_merge\n",
    "  )\n",
    "  SELECT\n",
    "    Customer_SK,\n",
    "    Customer_ID,\n",
    "    Social_Number,\n",
    "    Name,\n",
    "    email,\n",
    "    Address,\n",
    "    Moviment_Date,\n",
    "    StartDate,\n",
    "    COALESCE(EndDate1, EndDate2, '9999-12-31') AS EndDate,\n",
    "    hash\n",
    "  FROM lead_lag_table\n",
    "  WHERE Operation <> 'DELETE'\n",
    ") AS S\n",
    "ON T.Customer_ID = S.Customer_ID AND S.StartDate = T.StartDate\n",
    "\n",
    "WHEN MATCHED THEN UPDATE SET T.EndDate = S.EndDate\n",
    "-- Inserting:\n",
    "WHEN NOT MATCHED THEN INSERT *"
   ]
  },
  {
   "cell_type": "code",
   "execution_count": 0,
   "metadata": {
    "application/vnd.databricks.v1+cell": {
     "cellMetadata": {},
     "inputWidgets": {},
     "nuid": "d842df1a-0f1d-4194-85c3-e8e0a721eef3",
     "showTitle": false,
     "tableResultSettingsMap": {},
     "title": ""
    }
   },
   "outputs": [],
   "source": [
    "UPDATE IDENTIFIER(:catalog ||'.control.control_tables_moviments')\n",
    "SET MOVIMENT_DATE = :moviment_date\n",
    "WHERE Project_Name = :project\n",
    "  AND Table_name = 'gold_customers'"
   ]
  }
 ],
 "metadata": {
  "application/vnd.databricks.v1+notebook": {
   "computePreferences": null,
   "dashboards": [],
   "environmentMetadata": {
    "base_environment": "",
    "environment_version": "2"
   },
   "inputWidgetPreferences": null,
   "language": "sql",
   "notebookMetadata": {
    "pythonIndentUnit": 4
   },
   "notebookName": "batch_sql_Gold_Customers_plus_Finish_Control",
   "widgets": {
    "catalog": {
     "currentValue": "dev",
     "nuid": "79b58ffa-1071-438d-afd5-d94d80a53660",
     "typedWidgetInfo": {
      "autoCreated": true,
      "defaultValue": "",
      "label": null,
      "name": "catalog",
      "options": {
       "widgetDisplayType": "Text",
       "validationRegex": null
      },
      "parameterDataType": "String"
     },
     "widgetInfo": {
      "widgetType": "text",
      "defaultValue": "",
      "label": null,
      "name": "catalog",
      "options": {
       "widgetType": "text",
       "autoCreated": true,
       "validationRegex": null
      }
     }
    },
    "moviment_date": {
     "currentValue": "2025-01-01",
     "nuid": "82ea8a8d-5f8d-4807-81f9-498d2f021151",
     "typedWidgetInfo": {
      "autoCreated": false,
      "defaultValue": "",
      "label": null,
      "name": "moviment_date",
      "options": {
       "widgetDisplayType": "Text",
       "validationRegex": null
      },
      "parameterDataType": "String"
     },
     "widgetInfo": {
      "widgetType": "text",
      "defaultValue": "",
      "label": null,
      "name": "moviment_date",
      "options": {
       "widgetType": "text",
       "autoCreated": null,
       "validationRegex": null
      }
     }
    },
    "project": {
     "currentValue": "Retail",
     "nuid": "ada7903b-210a-4bea-9386-8d9a33d60e8b",
     "typedWidgetInfo": {
      "autoCreated": false,
      "defaultValue": "",
      "label": "",
      "name": "project",
      "options": {
       "widgetDisplayType": "Text",
       "validationRegex": null
      },
      "parameterDataType": "String"
     },
     "widgetInfo": {
      "widgetType": "text",
      "defaultValue": "",
      "label": "",
      "name": "project",
      "options": {
       "widgetType": "text",
       "autoCreated": false,
       "validationRegex": null
      }
     }
    },
    "schema": {
     "currentValue": "retail_batch_sql",
     "nuid": "9672a667-97f8-42b8-8aae-75bb3b03f5d0",
     "typedWidgetInfo": {
      "autoCreated": true,
      "defaultValue": "",
      "label": null,
      "name": "schema",
      "options": {
       "widgetDisplayType": "Text",
       "validationRegex": null
      },
      "parameterDataType": "String"
     },
     "widgetInfo": {
      "widgetType": "text",
      "defaultValue": "",
      "label": null,
      "name": "schema",
      "options": {
       "widgetType": "text",
       "autoCreated": true,
       "validationRegex": null
      }
     }
    }
   }
  },
  "language_info": {
   "name": "sql"
  }
 },
 "nbformat": 4,
 "nbformat_minor": 0
}