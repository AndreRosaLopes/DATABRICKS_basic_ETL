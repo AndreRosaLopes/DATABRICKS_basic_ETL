{
 "cells": [
  {
   "cell_type": "markdown",
   "metadata": {
    "application/vnd.databricks.v1+cell": {
     "cellMetadata": {},
     "inputWidgets": {},
     "nuid": "ca32abe3-bb45-465c-aa9c-62769ed37c29",
     "showTitle": false,
     "tableResultSettingsMap": {},
     "title": ""
    }
   },
   "source": [
    "# Batch SQL Bronze table\n",
    "\n",
    "## 🔗 References:\n",
    "[SQL Reference langague](https://docs.databricks.com/aws/en/sql/language-manual/)\n",
    "\n",
    "### Parameters\n",
    "* [Job parameters](https://learn.microsoft.com/en-us/azure/databricks/jobs/job-parameters)\n",
    "* [Task parameters](https://learn.microsoft.com/en-us/azure/databricks/jobs/task-parameters)\n",
    "\n"
   ]
  },
  {
   "cell_type": "markdown",
   "metadata": {
    "application/vnd.databricks.v1+cell": {
     "cellMetadata": {},
     "inputWidgets": {},
     "nuid": "5126e6bf-e5f9-4c02-8cd3-8ebc53ad3888",
     "showTitle": false,
     "tableResultSettingsMap": {},
     "title": ""
    }
   },
   "source": [
    "# Customer table"
   ]
  },
  {
   "cell_type": "code",
   "execution_count": null,
   "metadata": {
    "vscode": {
     "languageId": "sql"
    }
   },
   "outputs": [],
   "source": [
    "USE IDENTIFIER(:catalog ||'.'|| :schema)"
   ]
  },
  {
   "cell_type": "code",
   "execution_count": null,
   "metadata": {
    "vscode": {
     "languageId": "sql"
    }
   },
   "outputs": [],
   "source": [
    "COPY INTO BRONZE_CUSTOMERS FROM (\n",
    "  SELECT\n",
    "    Customer_ID,\n",
    "    Social_Number,\n",
    "    Name,\n",
    "    email,\n",
    "    Address,\n",
    "    CAST(Registration_TimeStamp AS TIMESTAMP) AS Registration_TimeStamp,\n",
    "    Operation,\n",
    "    to_date(SUBSTRING(_metadata.file_name ,1,10)) AS Moviment_Date,\n",
    "    _metadata.file_name AS SourceFile\n",
    "  FROM '/Volumes/dev/storage/volume/*_customer.json')\n",
    "  FILEFORMAT = JSON\n",
    "  COPY_OPTIONS ('mergeSchema' = 'true')"
   ]
  }
 ],
 "metadata": {
  "application/vnd.databricks.v1+notebook": {
   "computePreferences": null,
   "dashboards": [],
   "environmentMetadata": {
    "base_environment": "",
    "environment_version": "2"
   },
   "inputWidgetPreferences": null,
   "language": "sql",
   "notebookMetadata": {
    "pythonIndentUnit": 4
   },
   "notebookName": "batch_sql_Bronze_Customers_COPY_INTO",
   "widgets": {
    "catalog": {
     "currentValue": "dev",
     "nuid": "894e308d-f0cb-4046-89bd-72bff0a9cd13",
     "typedWidgetInfo": {
      "autoCreated": false,
      "defaultValue": "",
      "label": "",
      "name": "catalog",
      "options": {
       "validationRegex": null,
       "widgetDisplayType": "Text"
      },
      "parameterDataType": "String"
     },
     "widgetInfo": {
      "defaultValue": "",
      "label": "",
      "name": "catalog",
      "options": {
       "autoCreated": false,
       "validationRegex": null,
       "widgetType": "text"
      },
      "widgetType": "text"
     }
    },
    "schema": {
     "currentValue": "retail_batch_sql",
     "nuid": "61e73d0f-5655-4eab-b8ac-e6ab354ba3f1",
     "typedWidgetInfo": {
      "autoCreated": false,
      "defaultValue": "",
      "label": "",
      "name": "schema",
      "options": {
       "validationRegex": null,
       "widgetDisplayType": "Text"
      },
      "parameterDataType": "String"
     },
     "widgetInfo": {
      "defaultValue": "",
      "label": "",
      "name": "schema",
      "options": {
       "autoCreated": false,
       "validationRegex": null,
       "widgetType": "text"
      },
      "widgetType": "text"
     }
    }
   }
  },
  "kernelspec": {
   "display_name": ".venv_dbc",
   "language": "python",
   "name": "python3"
  },
  "language_info": {
   "codemirror_mode": {
    "name": "ipython",
    "version": 3
   },
   "file_extension": ".py",
   "mimetype": "text/x-python",
   "name": "python",
   "nbconvert_exporter": "python",
   "pygments_lexer": "ipython3",
   "version": "3.12.6"
  }
 },
 "nbformat": 4,
 "nbformat_minor": 0
}
