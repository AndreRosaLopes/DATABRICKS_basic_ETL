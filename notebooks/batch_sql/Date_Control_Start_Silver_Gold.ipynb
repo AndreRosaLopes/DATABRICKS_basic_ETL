{
 "cells": [
  {
   "cell_type": "code",
   "execution_count": 0,
   "metadata": {
    "application/vnd.databricks.v1+cell": {
     "cellMetadata": {
      "byteLimit": 2048000,
      "rowLimit": 10000
     },
     "inputWidgets": {},
     "nuid": "a336c77a-dc4f-4b02-b65b-8288baa0945f",
     "showTitle": false,
     "tableResultSettingsMap": {},
     "title": ""
    }
   },
   "outputs": [],
   "source": [
    "# Create the widget for project name (JUST FOR RUNNING OUTSIDE A JOB)\n",
    "# dbutils.widgets.text(\"project\", \"\")\n",
    "# dbutils.widgets.text(\"table_name\", \"\")\n",
    "# dbutils.widgets.text(\"catalog\", \"\")\n",
    "\n",
    "# Get the name of project\n",
    "project = dbutils.widgets.get(\"project\")\n",
    "table_name = dbutils.widgets.get(\"table_name\")\n",
    "catalog = dbutils.widgets.get(\"catalog\")"
   ]
  },
  {
   "cell_type": "code",
   "execution_count": 0,
   "metadata": {
    "application/vnd.databricks.v1+cell": {
     "cellMetadata": {
      "byteLimit": 2048000,
      "rowLimit": 10000
     },
     "inputWidgets": {},
     "nuid": "211eb7bf-dde5-4b59-8852-59250fd3916a",
     "showTitle": false,
     "tableResultSettingsMap": {},
     "title": ""
    }
   },
   "outputs": [
    {
     "output_type": "stream",
     "name": "stdout",
     "output_type": "stream",
     "text": [
      "List of dates to run in project Retail - silver_customers: []\n"
     ]
    }
   ],
   "source": [
    "# Get the next moviment date for the project\n",
    "query_result = spark.sql(f\"\"\"\n",
    "    SELECT List_of_Dates\n",
    "    FROM IDENTIFIER('{catalog}' ||'.Control.View_Dates')\n",
    "    WHERE Project_Name = '{project}' and Table_Name = '{table_name}'\n",
    "    \"\"\"\n",
    "    ).first()\n",
    "print(f\"List of dates to run in project {project} - {table_name}: {query_result['List_of_Dates']}\")"
   ]
  },
  {
   "cell_type": "code",
   "execution_count": 0,
   "metadata": {
    "application/vnd.databricks.v1+cell": {
     "cellMetadata": {
      "byteLimit": 2048000,
      "rowLimit": 10000
     },
     "inputWidgets": {},
     "nuid": "6e356973-dd90-4e3e-b931-ccfffa91e953",
     "showTitle": false,
     "tableResultSettingsMap": {},
     "title": ""
    }
   },
   "outputs": [],
   "source": [
    "# Set the next moviment date for the job\n",
    "dbutils.jobs.taskValues.set(\"moviment_date\", query_result['List_of_Dates'])\n"
   ]
  }
 ],
 "metadata": {
  "application/vnd.databricks.v1+notebook": {
   "computePreferences": null,
   "dashboards": [],
   "environmentMetadata": {
    "base_environment": "",
    "environment_version": "2"
   },
   "inputWidgetPreferences": null,
   "language": "python",
   "notebookMetadata": {
    "mostRecentlyExecutedCommandWithImplicitDF": {
     "commandId": 8468556517270466,
     "dataframes": [
      "_sqldf"
     ]
    },
    "pythonIndentUnit": 4
   },
   "notebookName": "Date_Control_Start_Silver_Gold",
   "widgets": {
    "catalog": {
     "currentValue": "dev",
     "nuid": "f3c5e13d-db05-466c-a7bd-1c554ad5e6c5",
     "typedWidgetInfo": {
      "autoCreated": false,
      "defaultValue": "",
      "label": null,
      "name": "catalog",
      "options": {
       "widgetDisplayType": "Text",
       "validationRegex": null
      },
      "parameterDataType": "String"
     },
     "widgetInfo": {
      "widgetType": "text",
      "defaultValue": "",
      "label": null,
      "name": "catalog",
      "options": {
       "widgetType": "text",
       "autoCreated": null,
       "validationRegex": null
      }
     }
    },
    "project": {
     "currentValue": "Retail",
     "nuid": "c3090a20-0a5f-4bd3-bc00-7cc8eaa05554",
     "typedWidgetInfo": {
      "autoCreated": false,
      "defaultValue": "",
      "label": null,
      "name": "project",
      "options": {
       "widgetDisplayType": "Text",
       "validationRegex": null
      },
      "parameterDataType": "String"
     },
     "widgetInfo": {
      "widgetType": "text",
      "defaultValue": "",
      "label": null,
      "name": "project",
      "options": {
       "widgetType": "text",
       "autoCreated": null,
       "validationRegex": null
      }
     }
    },
    "project_name": {
     "currentValue": "Retail",
     "nuid": "1fa160e7-4349-4da7-8150-769c28ca5f18",
     "typedWidgetInfo": {
      "autoCreated": false,
      "defaultValue": "",
      "label": null,
      "name": "project_name",
      "options": {
       "widgetDisplayType": "Text",
       "validationRegex": null
      },
      "parameterDataType": "String"
     },
     "widgetInfo": {
      "widgetType": "text",
      "defaultValue": "",
      "label": null,
      "name": "project_name",
      "options": {
       "widgetType": "text",
       "autoCreated": null,
       "validationRegex": null
      }
     }
    },
    "table_name": {
     "currentValue": "silver_customers",
     "nuid": "aa761426-de9c-4aa9-8c63-e673a4afeed7",
     "typedWidgetInfo": {
      "autoCreated": false,
      "defaultValue": "",
      "label": null,
      "name": "table_name",
      "options": {
       "widgetDisplayType": "Text",
       "validationRegex": null
      },
      "parameterDataType": "String"
     },
     "widgetInfo": {
      "widgetType": "text",
      "defaultValue": "",
      "label": null,
      "name": "table_name",
      "options": {
       "widgetType": "text",
       "autoCreated": null,
       "validationRegex": null
      }
     }
    }
   }
  },
  "language_info": {
   "name": "python"
  }
 },
 "nbformat": 4,
 "nbformat_minor": 0
}