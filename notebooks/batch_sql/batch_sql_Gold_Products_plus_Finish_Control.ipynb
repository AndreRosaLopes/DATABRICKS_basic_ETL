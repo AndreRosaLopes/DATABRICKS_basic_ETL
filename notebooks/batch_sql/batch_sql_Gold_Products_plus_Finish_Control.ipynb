{
 "cells": [
  {
   "cell_type": "markdown",
   "metadata": {
    "application/vnd.databricks.v1+cell": {
     "cellMetadata": {
      "byteLimit": 2048000,
      "rowLimit": 10000
     },
     "inputWidgets": {},
     "nuid": "5f0d44ee-7cff-44d1-be0a-81a362064426",
     "showTitle": false,
     "tableResultSettingsMap": {},
     "title": ""
    },
    "jupyter": {
     "outputs_hidden": true
    }
   },
   "source": [
    "# Batch SQL Gold\n"
   ]
  },
  {
   "cell_type": "code",
   "execution_count": 0,
   "metadata": {
    "application/vnd.databricks.v1+cell": {
     "cellMetadata": {
      "byteLimit": 2048000,
      "rowLimit": 10000
     },
     "inputWidgets": {},
     "nuid": "4270e665-268c-4fa3-9ce7-dff66f9170df",
     "showTitle": false,
     "tableResultSettingsMap": {},
     "title": ""
    }
   },
   "outputs": [],
   "source": [
    "\n",
    "USE IDENTIFIER(:catalog ||'.'|| :schema)\n"
   ]
  },
  {
   "cell_type": "markdown",
   "metadata": {
    "application/vnd.databricks.v1+cell": {
     "cellMetadata": {},
     "inputWidgets": {},
     "nuid": "a8d73b9d-adc9-412a-8cbe-54319e3ecebf",
     "showTitle": false,
     "tableResultSettingsMap": {},
     "title": ""
    }
   },
   "source": [
    "# Products"
   ]
  },
  {
   "cell_type": "code",
   "execution_count": 0,
   "metadata": {
    "application/vnd.databricks.v1+cell": {
     "cellMetadata": {
      "byteLimit": 2048000,
      "rowLimit": 10000
     },
     "inputWidgets": {},
     "nuid": "ed8e848e-1c63-4945-83d0-928eb41a7468",
     "showTitle": false,
     "tableResultSettingsMap": {
      "0": {
       "dataGridStateBlob": "{\"version\":1,\"tableState\":{\"columnPinning\":{\"left\":[\"#row_number#\"],\"right\":[]},\"columnSizing\":{\"hash\":462},\"columnVisibility\":{}},\"settings\":{\"columns\":{}},\"syncTimestamp\":1753965489005}",
       "filterBlob": null,
       "queryPlanFiltersBlob": null,
       "tableResultIndex": 0
      }
     },
     "title": ""
    }
   },
   "outputs": [
    {
     "output_type": "display_data",
     "data": {
      "text/html": [
       "<style scoped>\n",
       "  .table-result-container {\n",
       "    max-height: 300px;\n",
       "    overflow: auto;\n",
       "  }\n",
       "  table, th, td {\n",
       "    border: 1px solid black;\n",
       "    border-collapse: collapse;\n",
       "  }\n",
       "  th, td {\n",
       "    padding: 5px;\n",
       "  }\n",
       "  th {\n",
       "    text-align: left;\n",
       "  }\n",
       "</style><div class='table-result-container'><table class='table-result'><thead style='background-color: white'><tr><th>num_affected_rows</th><th>num_updated_rows</th><th>num_deleted_rows</th><th>num_inserted_rows</th></tr></thead><tbody><tr><td>21</td><td>0</td><td>0</td><td>21</td></tr></tbody></table></div>"
      ]
     },
     "metadata": {
      "application/vnd.databricks.v1+output": {
       "addedWidgets": {},
       "aggData": [],
       "aggError": "",
       "aggOverflow": false,
       "aggSchema": [],
       "aggSeriesLimitReached": false,
       "aggType": "",
       "arguments": {},
       "columnCustomDisplayInfos": {},
       "data": [
        [
         21,
         0,
         0,
         21
        ]
       ],
       "datasetInfos": [
        {
         "name": "_sqldf",
         "schema": {
          "fields": [
           {
            "metadata": {},
            "name": "num_affected_rows",
            "nullable": true,
            "type": "long"
           },
           {
            "metadata": {},
            "name": "num_updated_rows",
            "nullable": true,
            "type": "long"
           },
           {
            "metadata": {},
            "name": "num_deleted_rows",
            "nullable": true,
            "type": "long"
           },
           {
            "metadata": {},
            "name": "num_inserted_rows",
            "nullable": true,
            "type": "long"
           }
          ],
          "type": "struct"
         },
         "tableIdentifier": null,
         "typeStr": "pyspark.sql.connect.dataframe.DataFrame"
        }
       ],
       "dbfsResultPath": null,
       "isJsonSchema": true,
       "metadata": {
        "createTempViewForImplicitDf": true,
        "dataframeName": "_sqldf",
        "executionCount": 3
       },
       "overflow": false,
       "plotOptions": {
        "customPlotOptions": {},
        "displayType": "table",
        "pivotAggregation": null,
        "pivotColumns": null,
        "xColumns": null,
        "yColumns": null
       },
       "removedWidgets": [],
       "schema": [
        {
         "metadata": "{}",
         "name": "num_affected_rows",
         "type": "\"long\""
        },
        {
         "metadata": "{}",
         "name": "num_updated_rows",
         "type": "\"long\""
        },
        {
         "metadata": "{}",
         "name": "num_deleted_rows",
         "type": "\"long\""
        },
        {
         "metadata": "{}",
         "name": "num_inserted_rows",
         "type": "\"long\""
        }
       ],
       "type": "table"
      }
     },
     "output_type": "display_data"
    }
   ],
   "source": [
    "MERGE INTO gold_products AS T\n",
    "USING (\n",
    "  WITH changed_register_for_merge AS (\n",
    "    SELECT \n",
    "      sha2(concat_ws('|',Product_ID,Registration_TimeStamp),256) as Product_SK,\n",
    "      Product_ID,\n",
    "      SKU,\n",
    "      Name,\n",
    "      Unit_Price,\n",
    "      Moviment_Date,\n",
    "      Registration_TimeStamp AS StartDate,\n",
    "      Null AS EndDate,\n",
    "      sha2(concat_ws('|',*),256) as hash,  --> HASH HERE DEPENDS ONLY ON THE COLUMNS OF SILVER TABLE\n",
    "      Operation\n",
    "    FROM silver_products\n",
    "    WHERE Moviment_Date = :moviment_date\n",
    "\n",
    "    UNION ALL\n",
    "\n",
    "    SELECT DISTINCT T.*, Null AS Operation\n",
    "    FROM ( SELECT Product_ID, Registration_TimeStamp FROM silver_products WHERE Moviment_Date = :moviment_date ) S\n",
    "    LEFT JOIN gold_products T \n",
    "      ON S.Product_ID = T.Product_ID\n",
    "    WHERE S.Registration_TimeStamp > T.StartDate AND S.Registration_TimeStamp < T.EndDate\n",
    "  ),\n",
    "  lead_lag_table AS (\n",
    "  SELECT *,\n",
    "    LEAD(StartDate) OVER (PARTITION BY Product_ID ORDER BY StartDate) AS EndDate1,\n",
    "    LAG(EndDate) OVER (PARTITION BY Product_ID ORDER BY StartDate) AS EndDate2\n",
    "  FROM changed_register_for_merge\n",
    "  )\n",
    "  SELECT\n",
    "    Product_SK,\n",
    "    Product_ID,\n",
    "    SKU,\n",
    "    Name,\n",
    "    Unit_Price,\n",
    "    Moviment_Date,\n",
    "    StartDate,\n",
    "    COALESCE(EndDate1, EndDate2, '9999-12-31') AS EndDate,\n",
    "    hash\n",
    "  FROM lead_lag_table\n",
    "  WHERE Operation <> 'DELETE'\n",
    ") AS S\n",
    "ON T.product_ID = S.product_ID AND S.StartDate = T.StartDate\n",
    "\n",
    "WHEN MATCHED THEN UPDATE SET T.EndDate = S.EndDate\n",
    "-- Inserting:\n",
    "WHEN NOT MATCHED THEN INSERT *"
   ]
  },
  {
   "cell_type": "code",
   "execution_count": 0,
   "metadata": {
    "application/vnd.databricks.v1+cell": {
     "cellMetadata": {},
     "inputWidgets": {},
     "nuid": "d842df1a-0f1d-4194-85c3-e8e0a721eef3",
     "showTitle": false,
     "tableResultSettingsMap": {},
     "title": ""
    }
   },
   "outputs": [],
   "source": [
    "UPDATE IDENTIFIER(:catalog ||'.control.control_tables_moviments')\n",
    "SET MOVIMENT_DATE = :moviment_date\n",
    "WHERE Project_Name = :project\n",
    "  AND Table_name = 'gold_products'"
   ]
  }
 ],
 "metadata": {
  "application/vnd.databricks.v1+notebook": {
   "computePreferences": null,
   "dashboards": [],
   "environmentMetadata": {
    "base_environment": "",
    "environment_version": "2"
   },
   "inputWidgetPreferences": null,
   "language": "sql",
   "notebookMetadata": {
    "pythonIndentUnit": 4
   },
   "notebookName": "batch_sql_Gold_Products_plus_Finish_Control",
   "widgets": {
    "catalog": {
     "currentValue": "dev",
     "nuid": "79b58ffa-1071-438d-afd5-d94d80a53660",
     "typedWidgetInfo": {
      "autoCreated": true,
      "defaultValue": "",
      "label": null,
      "name": "catalog",
      "options": {
       "widgetDisplayType": "Text",
       "validationRegex": null
      },
      "parameterDataType": "String"
     },
     "widgetInfo": {
      "widgetType": "text",
      "defaultValue": "",
      "label": null,
      "name": "catalog",
      "options": {
       "widgetType": "text",
       "autoCreated": true,
       "validationRegex": null
      }
     }
    },
    "moviment_date": {
     "currentValue": "2025-01-01",
     "nuid": "82ea8a8d-5f8d-4807-81f9-498d2f021151",
     "typedWidgetInfo": {
      "autoCreated": false,
      "defaultValue": "",
      "label": null,
      "name": "moviment_date",
      "options": {
       "widgetDisplayType": "Text",
       "validationRegex": null
      },
      "parameterDataType": "String"
     },
     "widgetInfo": {
      "widgetType": "text",
      "defaultValue": "",
      "label": null,
      "name": "moviment_date",
      "options": {
       "widgetType": "text",
       "autoCreated": null,
       "validationRegex": null
      }
     }
    },
    "project": {
     "currentValue": "",
     "nuid": "997952be-21bc-45eb-aa02-4e4f0ca51793",
     "typedWidgetInfo": {
      "autoCreated": true,
      "defaultValue": "",
      "label": null,
      "name": "project",
      "options": {
       "widgetDisplayType": "Text",
       "validationRegex": null
      },
      "parameterDataType": "String"
     },
     "widgetInfo": {
      "widgetType": "text",
      "defaultValue": "",
      "label": null,
      "name": "project",
      "options": {
       "widgetType": "text",
       "autoCreated": true,
       "validationRegex": null
      }
     }
    },
    "schema": {
     "currentValue": "retail_batch_sql",
     "nuid": "9672a667-97f8-42b8-8aae-75bb3b03f5d0",
     "typedWidgetInfo": {
      "autoCreated": true,
      "defaultValue": "",
      "label": null,
      "name": "schema",
      "options": {
       "widgetDisplayType": "Text",
       "validationRegex": null
      },
      "parameterDataType": "String"
     },
     "widgetInfo": {
      "widgetType": "text",
      "defaultValue": "",
      "label": null,
      "name": "schema",
      "options": {
       "widgetType": "text",
       "autoCreated": true,
       "validationRegex": null
      }
     }
    }
   }
  },
  "language_info": {
   "name": "sql"
  }
 },
 "nbformat": 4,
 "nbformat_minor": 0
}